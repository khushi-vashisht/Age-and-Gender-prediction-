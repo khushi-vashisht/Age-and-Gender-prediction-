{
 "cells": [
  {
   "cell_type": "code",
   "execution_count": 1,
   "id": "c4b5df71",
   "metadata": {
    "execution": {
     "iopub.execute_input": "2025-05-19T08:18:53.605818Z",
     "iopub.status.busy": "2025-05-19T08:18:53.605606Z",
     "iopub.status.idle": "2025-05-19T08:19:10.653691Z",
     "shell.execute_reply": "2025-05-19T08:19:10.652748Z"
    },
    "papermill": {
     "duration": 17.052305,
     "end_time": "2025-05-19T08:19:10.655041",
     "exception": false,
     "start_time": "2025-05-19T08:18:53.602736",
     "status": "completed"
    },
    "tags": []
   },
   "outputs": [
    {
     "name": "stderr",
     "output_type": "stream",
     "text": [
      "2025-05-19 08:18:58.388350: E external/local_xla/xla/stream_executor/cuda/cuda_fft.cc:477] Unable to register cuFFT factory: Attempting to register factory for plugin cuFFT when one has already been registered\n",
      "WARNING: All log messages before absl::InitializeLog() is called are written to STDERR\n",
      "E0000 00:00:1747642738.620890      19 cuda_dnn.cc:8310] Unable to register cuDNN factory: Attempting to register factory for plugin cuDNN when one has already been registered\n",
      "E0000 00:00:1747642738.688053      19 cuda_blas.cc:1418] Unable to register cuBLAS factory: Attempting to register factory for plugin cuBLAS when one has already been registered\n"
     ]
    },
    {
     "name": "stdout",
     "output_type": "stream",
     "text": [
      "Path to your uploaded model artifacts: /kaggle/input/cv-age-prediction-model/\n",
      "  - Exists: True\n",
      "  - Contents: ['best_age_model_cnn.h5', 'dl_age_label_encoder.pkl']\n",
      "Test Metadata CSV: /kaggle/input/common-voice/cv-valid-test.csv - Exists: True\n",
      "Actual Test Audio Clips Path: /kaggle/input/common-voice/cv-valid-test/cv-valid-test - Exists: True\n"
     ]
    }
   ],
   "source": [
    "import os\n",
    "import numpy as np\n",
    "import pandas as pd\n",
    "import matplotlib.pyplot as plt\n",
    "import seaborn as sns # For confusion matrix plotting\n",
    "import librosa\n",
    "import librosa.display\n",
    "import joblib\n",
    "import tensorflow as tf\n",
    "from sklearn.metrics import classification_report, confusion_matrix, accuracy_score\n",
    "from tensorflow.keras.utils import to_categorical # For one-hot encoding true labels\n",
    "import warnings\n",
    "warnings.filterwarnings('ignore')\n",
    "\n",
    "# --- PATHS ---\n",
    "# Path to the Common Voice dataset (added as input to this notebook)\n",
    "COMMON_VOICE_DATASET_ROOT = \"/kaggle/input/common-voice/\"\n",
    "\n",
    "# Path to YOUR UPLOADED MODEL ARTIFACTS DATASET\n",
    "# This is derived from your dataset URL: www.kaggle.com/datasets/kkhushibe22/cv-age-prediction-model\n",
    "YOUR_MODEL_DATASET_SLUG = \"cv-age-prediction-model\"\n",
    "MODEL_ARTIFACTS_PATH = f\"/kaggle/input/{YOUR_MODEL_DATASET_SLUG}/\"\n",
    "\n",
    "# Paths for metadata CSVs from Common Voice dataset\n",
    "COMMON_VOICE_METADATA_TEST_CSV = os.path.join(COMMON_VOICE_DATASET_ROOT, \"cv-valid-test.csv\")\n",
    "\n",
    "# Path to the ACTUAL AUDIO FILES DIRECTORY for the test set\n",
    "ACTUAL_AUDIO_TEST_CLIPS_PATH = os.path.join(COMMON_VOICE_DATASET_ROOT, \"cv-valid-test\", \"cv-valid-test\")\n",
    "\n",
    "# --- Verification ---\n",
    "print(f\"Path to your uploaded model artifacts: {MODEL_ARTIFACTS_PATH}\")\n",
    "print(f\"  - Exists: {os.path.exists(MODEL_ARTIFACTS_PATH)}\")\n",
    "if os.path.exists(MODEL_ARTIFACTS_PATH):\n",
    "    print(f\"  - Contents: {os.listdir(MODEL_ARTIFACTS_PATH)}\") # Should list your .h5 and .pkl files\n",
    "\n",
    "print(f\"Test Metadata CSV: {COMMON_VOICE_METADATA_TEST_CSV} - Exists: {os.path.exists(COMMON_VOICE_METADATA_TEST_CSV)}\")\n",
    "print(f\"Actual Test Audio Clips Path: {ACTUAL_AUDIO_TEST_CLIPS_PATH} - Exists: {os.path.exists(ACTUAL_AUDIO_TEST_CLIPS_PATH)}\")"
   ]
  },
  {
   "cell_type": "code",
   "execution_count": 2,
   "id": "f85877cb",
   "metadata": {
    "execution": {
     "iopub.execute_input": "2025-05-19T08:19:10.661463Z",
     "iopub.status.busy": "2025-05-19T08:19:10.660976Z",
     "iopub.status.idle": "2025-05-19T08:19:10.666814Z",
     "shell.execute_reply": "2025-05-19T08:19:10.666072Z"
    },
    "papermill": {
     "duration": 0.009471,
     "end_time": "2025-05-19T08:19:10.667885",
     "exception": false,
     "start_time": "2025-05-19T08:19:10.658414",
     "status": "completed"
    },
    "tags": []
   },
   "outputs": [
    {
     "name": "stdout",
     "output_type": "stream",
     "text": [
      "Spectrogram parameters and function defined.\n"
     ]
    }
   ],
   "source": [
    "# Parameters for spectrogram (should match those used during training)\n",
    "SR = 22050\n",
    "N_FFT = 2048\n",
    "HOP_LENGTH = 512\n",
    "N_MELS = 128\n",
    "MAX_FRAMES = 256 # Max frames to ensure fixed size input\n",
    "\n",
    "def audio_to_melspectrogram(filepath, sr=SR, n_fft=N_FFT, hop_length=HOP_LENGTH, n_mels=N_MELS, max_frames=MAX_FRAMES):\n",
    "    try:\n",
    "        audio, _ = librosa.load(filepath, sr=sr)\n",
    "        mel_spec = librosa.feature.melspectrogram(y=audio, sr=sr, n_fft=n_fft, hop_length=hop_length, n_mels=n_mels)\n",
    "        log_mel_spec = librosa.power_to_db(mel_spec, ref=np.max)\n",
    "\n",
    "        if log_mel_spec.shape[1] < max_frames:\n",
    "            pad_width = max_frames - log_mel_spec.shape[1]\n",
    "            log_mel_spec = np.pad(log_mel_spec, pad_width=((0, 0), (0, pad_width)), mode='constant', constant_values=-80)\n",
    "        else:\n",
    "            log_mel_spec = log_mel_spec[:, :max_frames]\n",
    "        return log_mel_spec\n",
    "    except Exception as e:\n",
    "        print(f\"Error generating spectrogram for {filepath}: {e}\")\n",
    "        return None\n",
    "\n",
    "print(\"Spectrogram parameters and function defined.\")"
   ]
  },
  {
   "cell_type": "code",
   "execution_count": 3,
   "id": "e1402912",
   "metadata": {
    "execution": {
     "iopub.execute_input": "2025-05-19T08:19:10.672214Z",
     "iopub.status.busy": "2025-05-19T08:19:10.671965Z",
     "iopub.status.idle": "2025-05-19T08:19:15.332686Z",
     "shell.execute_reply": "2025-05-19T08:19:15.331731Z"
    },
    "papermill": {
     "duration": 4.664351,
     "end_time": "2025-05-19T08:19:15.333939",
     "exception": false,
     "start_time": "2025-05-19T08:19:10.669588",
     "status": "completed"
    },
    "tags": []
   },
   "outputs": [
    {
     "name": "stdout",
     "output_type": "stream",
     "text": [
      "Loaded age label encoder from: /kaggle/input/cv-age-prediction-model/dl_age_label_encoder.pkl\n",
      "Age classes from encoder: ['eighties' 'fifties' 'fourties' 'seventies' 'sixties' 'teens' 'thirties'\n",
      " 'twenties']\n",
      "Loaded cv-valid-test.csv with shape: (3995, 8)\n",
      "Path validation: 1535 audio files found out of 1535 entries.\n",
      "Shape after age encoding and filtering unknown age labels: (1535, 5)\n",
      "\n",
      "Test Data for Evaluation (Head):\n",
      "                          filename       age  \\\n",
      "0  cv-valid-test/sample-000001.mp3  twenties   \n",
      "1  cv-valid-test/sample-000003.mp3  twenties   \n",
      "2  cv-valid-test/sample-000005.mp3  twenties   \n",
      "3  cv-valid-test/sample-000006.mp3  twenties   \n",
      "4  cv-valid-test/sample-000007.mp3  thirties   \n",
      "\n",
      "                                     full_audio_path  age_encoded_true  \n",
      "0  /kaggle/input/common-voice/cv-valid-test/cv-va...                 7  \n",
      "1  /kaggle/input/common-voice/cv-valid-test/cv-va...                 7  \n",
      "2  /kaggle/input/common-voice/cv-valid-test/cv-va...                 7  \n",
      "3  /kaggle/input/common-voice/cv-valid-test/cv-va...                 7  \n",
      "4  /kaggle/input/common-voice/cv-valid-test/cv-va...                 6  \n"
     ]
    }
   ],
   "source": [
    "def load_and_prepare_test_metadata(csv_path, base_audio_path_root, age_label_encoder):\n",
    "    try:\n",
    "        df_meta = pd.read_csv(csv_path)\n",
    "        print(f\"Loaded {os.path.basename(csv_path)} with shape: {df_meta.shape}\")\n",
    "    except FileNotFoundError:\n",
    "        print(f\"ERROR: CSV file not found at {csv_path}.\")\n",
    "        return pd.DataFrame()\n",
    "\n",
    "    df_meta_cleaned = df_meta[['filename', 'age', 'gender']].copy()\n",
    "    df_meta_cleaned.dropna(subset=['age', 'gender'], inplace=True)\n",
    "\n",
    "    # Construct full audio path\n",
    "    def construct_actual_path(csv_filename_entry):\n",
    "        parts = csv_filename_entry.split('/')\n",
    "        if len(parts) == 2: # e.g., 'cv-valid-test/sample-xxxxx.mp3'\n",
    "            # This path needs to point to where the audio files actually are\n",
    "            # COMMON_VOICE_DATASET_ROOT / cv-valid-test / cv-valid-test / sample-xxxxx.mp3\n",
    "            return os.path.join(COMMON_VOICE_DATASET_ROOT, parts[0], parts[0], parts[1])\n",
    "        return os.path.join(COMMON_VOICE_DATASET_ROOT, csv_filename_entry) # Fallback\n",
    "\n",
    "    df_meta_cleaned['full_audio_path'] = df_meta_cleaned['filename'].apply(construct_actual_path)\n",
    "\n",
    "    # Validate file existence\n",
    "    original_count = len(df_meta_cleaned)\n",
    "    df_meta_cleaned = df_meta_cleaned[df_meta_cleaned['full_audio_path'].apply(os.path.exists)].copy()\n",
    "    print(f\"Path validation: {len(df_meta_cleaned)} audio files found out of {original_count} entries.\")\n",
    "\n",
    "    # Encode 'age' for true labels using the loaded encoder\n",
    "    # Handle unseen labels by marking them for removal\n",
    "    if age_label_encoder:\n",
    "        df_meta_cleaned['age_encoded_true'] = df_meta_cleaned['age'].apply(\n",
    "            lambda x: age_label_encoder.transform([x])[0] if x in age_label_encoder.classes_ else -1\n",
    "        )\n",
    "        # Filter out rows with ages not present in the training set (and thus encoder)\n",
    "        df_meta_cleaned = df_meta_cleaned[df_meta_cleaned['age_encoded_true'] != -1].copy()\n",
    "        print(f\"Shape after age encoding and filtering unknown age labels: {df_meta_cleaned.shape}\")\n",
    "    else:\n",
    "        print(\"Age label encoder not provided; 'age_encoded_true' column will not be created.\")\n",
    "        df_meta_cleaned['age_encoded_true'] = -1 # Placeholder\n",
    "\n",
    "    return df_meta_cleaned[['filename', 'age', 'full_audio_path', 'age_encoded_true']].reset_index(drop=True)\n",
    "\n",
    "# Load Age Label Encoder (needed before loading test metadata for proper encoding of true labels)\n",
    "# MODEL_ARTIFACTS_PATH is defined in Cell 1\n",
    "age_encoder_path_pkl = os.path.join(MODEL_ARTIFACTS_PATH, 'dl_age_label_encoder.pkl') # Filename from your image\n",
    "loaded_age_label_encoder_dl = None\n",
    "if os.path.exists(age_encoder_path_pkl):\n",
    "    loaded_age_label_encoder_dl = joblib.load(age_encoder_path_pkl)\n",
    "    print(f\"Loaded age label encoder from: {age_encoder_path_pkl}\")\n",
    "    print(f\"Age classes from encoder: {loaded_age_label_encoder_dl.classes_}\")\n",
    "else:\n",
    "    print(f\"ERROR: Age label encoder file not found at {age_encoder_path_pkl}. Cannot proceed with evaluation.\")\n",
    "    print(f\"Please ensure the file 'dl_age_label_encoder.pkl' is present in your dataset: {MODEL_ARTIFACTS_PATH}\")\n",
    "\n",
    "\n",
    "# Load test data and prepare it\n",
    "if loaded_age_label_encoder_dl:\n",
    "    df_test_eval = load_and_prepare_test_metadata(COMMON_VOICE_METADATA_TEST_CSV,\n",
    "                                                  ACTUAL_AUDIO_TEST_CLIPS_PATH,\n",
    "                                                  loaded_age_label_encoder_dl)\n",
    "    if not df_test_eval.empty:\n",
    "        print(\"\\nTest Data for Evaluation (Head):\")\n",
    "        print(df_test_eval.head())\n",
    "    else:\n",
    "        print(\"df_test_eval is empty after processing.\")\n",
    "else:\n",
    "    df_test_eval = pd.DataFrame() # Ensure it's defined even if encoder fails\n",
    "    print(\"Skipping test data loading due to missing age encoder.\")"
   ]
  },
  {
   "cell_type": "code",
   "execution_count": 4,
   "id": "4dc0e43c",
   "metadata": {
    "execution": {
     "iopub.execute_input": "2025-05-19T08:19:15.338933Z",
     "iopub.status.busy": "2025-05-19T08:19:15.338453Z",
     "iopub.status.idle": "2025-05-19T08:19:18.740478Z",
     "shell.execute_reply": "2025-05-19T08:19:18.739689Z"
    },
    "papermill": {
     "duration": 3.405629,
     "end_time": "2025-05-19T08:19:18.741737",
     "exception": false,
     "start_time": "2025-05-19T08:19:15.336108",
     "status": "completed"
    },
    "tags": []
   },
   "outputs": [
    {
     "name": "stderr",
     "output_type": "stream",
     "text": [
      "I0000 00:00:1747642756.613580      19 gpu_device.cc:2022] Created device /job:localhost/replica:0/task:0/device:GPU:0 with 13942 MB memory:  -> device: 0, name: Tesla T4, pci bus id: 0000:00:04.0, compute capability: 7.5\n",
      "I0000 00:00:1747642756.614269      19 gpu_device.cc:2022] Created device /job:localhost/replica:0/task:0/device:GPU:1 with 13942 MB memory:  -> device: 1, name: Tesla T4, pci bus id: 0000:00:05.0, compute capability: 7.5\n"
     ]
    },
    {
     "name": "stdout",
     "output_type": "stream",
     "text": [
      "Loaded age model from: /kaggle/input/cv-age-prediction-model/best_age_model_cnn.h5\n",
      "\n",
      "Age model and encoder are ready for prediction.\n"
     ]
    }
   ],
   "source": [
    "# MODEL_ARTIFACTS_PATH is defined in Cell 1\n",
    "age_model_path_h5 = os.path.join(MODEL_ARTIFACTS_PATH, \"best_age_model_cnn.h5\") # Filename from your image\n",
    "\n",
    "loaded_age_model_cnn = None\n",
    "age_model_loaded_for_pred = False\n",
    "\n",
    "try:\n",
    "    if os.path.exists(age_model_path_h5):\n",
    "        loaded_age_model_cnn = tf.keras.models.load_model(age_model_path_h5)\n",
    "        print(f\"Loaded age model from: {age_model_path_h5}\")\n",
    "        # loaded_age_model_cnn.summary() # Optional: display model summary\n",
    "        age_model_loaded_for_pred = True\n",
    "    else:\n",
    "        print(f\"Age model file not found at: {age_model_path_h5}\")\n",
    "        print(f\"Please ensure the file 'best_age_model_cnn.h5' is present in your dataset: {MODEL_ARTIFACTS_PATH}\")\n",
    "\n",
    "\n",
    "    if not loaded_age_label_encoder_dl: # Check from previous cell\n",
    "        print(\"Age label encoder was not loaded. Age prediction will not work correctly.\")\n",
    "        age_model_loaded_for_pred = False # Ensure this is false if encoder is missing\n",
    "\n",
    "    if age_model_loaded_for_pred:\n",
    "        print(\"\\nAge model and encoder are ready for prediction.\")\n",
    "    else:\n",
    "        print(\"\\nAge model or encoder failed to load. Predictions cannot be made.\")\n",
    "\n",
    "except Exception as e:\n",
    "    print(f\"Error loading age model: {e}\")\n",
    "    age_model_loaded_for_pred = False"
   ]
  },
  {
   "cell_type": "code",
   "execution_count": 5,
   "id": "f2004dd8",
   "metadata": {
    "execution": {
     "iopub.execute_input": "2025-05-19T08:19:18.746890Z",
     "iopub.status.busy": "2025-05-19T08:19:18.746664Z",
     "iopub.status.idle": "2025-05-19T08:22:02.721860Z",
     "shell.execute_reply": "2025-05-19T08:22:02.721029Z"
    },
    "papermill": {
     "duration": 163.981447,
     "end_time": "2025-05-19T08:22:02.725356",
     "exception": false,
     "start_time": "2025-05-19T08:19:18.743909",
     "status": "completed"
    },
    "tags": []
   },
   "outputs": [
    {
     "name": "stdout",
     "output_type": "stream",
     "text": [
      "\n",
      "Starting predictions on 1535 test samples...\n",
      "Predicting on a sample of 1535 files for demonstration.\n"
     ]
    },
    {
     "name": "stderr",
     "output_type": "stream",
     "text": [
      "WARNING: All log messages before absl::InitializeLog() is called are written to STDERR\n",
      "I0000 00:00:1747642772.200265      60 service.cc:148] XLA service 0x7c38e8002490 initialized for platform CUDA (this does not guarantee that XLA will be used). Devices:\n",
      "I0000 00:00:1747642772.201168      60 service.cc:156]   StreamExecutor device (0): Tesla T4, Compute Capability 7.5\n",
      "I0000 00:00:1747642772.201192      60 service.cc:156]   StreamExecutor device (1): Tesla T4, Compute Capability 7.5\n",
      "I0000 00:00:1747642772.330288      60 cuda_dnn.cc:529] Loaded cuDNN version 90300\n",
      "I0000 00:00:1747642773.907282      60 device_compiler.h:188] Compiled cluster using XLA!  This line is logged at most once for the lifetime of the process.\n"
     ]
    },
    {
     "name": "stdout",
     "output_type": "stream",
     "text": [
      "\n",
      "Example Predictions (True vs. Predicted):\n",
      "True: twenties   | Predicted: twenties\n",
      "True: twenties   | Predicted: twenties\n",
      "True: twenties   | Predicted: twenties\n",
      "True: twenties   | Predicted: fifties\n",
      "True: thirties   | Predicted: thirties\n",
      "True: thirties   | Predicted: fourties\n",
      "True: fifties    | Predicted: twenties\n",
      "True: twenties   | Predicted: twenties\n",
      "True: twenties   | Predicted: twenties\n",
      "True: twenties   | Predicted: fifties\n",
      "\n",
      "Predictions completed on the sample.\n"
     ]
    }
   ],
   "source": [
    "y_true_age_indices = []\n",
    "y_pred_age_indices = []\n",
    "y_pred_age_labels_examples = [] # For viewing some predictions\n",
    "true_age_labels_examples = []\n",
    "\n",
    "if age_model_loaded_for_pred and not df_test_eval.empty:\n",
    "    print(f\"\\nStarting predictions on {len(df_test_eval)} test samples...\")\n",
    "    # Limiting to a subset for quicker testing, remove '[:50]' for full test set\n",
    "    # For full evaluation, you might want to process all, but it can be time-consuming\n",
    "    df_to_predict = df_test_eval \n",
    "    #df_to_predict = df_test_eval.sample(n=min(100, len(df_test_eval)), random_state=42) # Predict on a sample of 100 or less\n",
    "    print(f\"Predicting on a sample of {len(df_to_predict)} files for demonstration.\")\n",
    "\n",
    "    for index, row in df_to_predict.iterrows():\n",
    "        audio_filepath = row['full_audio_path']\n",
    "        true_age_encoded = row['age_encoded_true'] # This is the numeric encoded label\n",
    "        true_age_str = row['age'] # This is the string label ('teens', 'twenties', etc.)\n",
    "\n",
    "        mel_spec = audio_to_melspectrogram(audio_filepath)\n",
    "        if mel_spec is None:\n",
    "            print(f\"Skipping {audio_filepath} due to spectrogram error.\")\n",
    "            continue\n",
    "\n",
    "        spectrogram_reshaped = np.expand_dims(mel_spec, axis=0)\n",
    "        spectrogram_reshaped = np.expand_dims(spectrogram_reshaped, axis=-1)\n",
    "\n",
    "        try:\n",
    "            age_probs = loaded_age_model_cnn.predict(spectrogram_reshaped, verbose=0)\n",
    "            predicted_age_idx = np.argmax(age_probs)\n",
    "\n",
    "            y_true_age_indices.append(int(true_age_encoded)) # Ensure it's int for metrics\n",
    "            y_pred_age_indices.append(predicted_age_idx)\n",
    "            \n",
    "            if len(y_pred_age_labels_examples) < 10: # Print a few examples\n",
    "                 predicted_age_label_str = loaded_age_label_encoder_dl.inverse_transform([predicted_age_idx])[0]\n",
    "                 y_pred_age_labels_examples.append(predicted_age_label_str)\n",
    "                 true_age_labels_examples.append(true_age_str)\n",
    "                 # print(f\"File: {os.path.basename(audio_filepath)}, True: {true_age_str} (Enc:{true_age_encoded}), Pred: {predicted_age_label_str} (Idx:{predicted_age_idx})\")\n",
    "\n",
    "        except Exception as e:\n",
    "            print(f\"Error predicting for {audio_filepath}: {e}\")\n",
    "    \n",
    "    print(\"\\nExample Predictions (True vs. Predicted):\")\n",
    "    for true_label, pred_label in zip(true_age_labels_examples, y_pred_age_labels_examples):\n",
    "        print(f\"True: {true_label:<10} | Predicted: {pred_label}\")\n",
    "    print(\"\\nPredictions completed on the sample.\")\n",
    "\n",
    "else:\n",
    "    if not age_model_loaded_for_pred:\n",
    "        print(\"Age model/encoder not loaded. Cannot perform batch predictions.\")\n",
    "    if df_test_eval.empty:\n",
    "        print(\"df_test_eval is empty. Cannot perform batch predictions.\")"
   ]
  },
  {
   "cell_type": "code",
   "execution_count": 6,
   "id": "148af295",
   "metadata": {
    "execution": {
     "iopub.execute_input": "2025-05-19T08:22:02.730873Z",
     "iopub.status.busy": "2025-05-19T08:22:02.730423Z",
     "iopub.status.idle": "2025-05-19T08:22:03.114273Z",
     "shell.execute_reply": "2025-05-19T08:22:03.113546Z"
    },
    "papermill": {
     "duration": 0.388263,
     "end_time": "2025-05-19T08:22:03.115882",
     "exception": false,
     "start_time": "2025-05-19T08:22:02.727619",
     "status": "completed"
    },
    "tags": []
   },
   "outputs": [
    {
     "name": "stdout",
     "output_type": "stream",
     "text": [
      "\n",
      "--- Age Model Evaluation Metrics (on the sampled test data) ---\n",
      "Overall Accuracy: 0.7049\n",
      "\n",
      "Classification Report:\n",
      "              precision    recall  f1-score   support\n",
      "\n",
      "    eighties       0.33      0.20      0.25         5\n",
      "     fifties       0.73      0.76      0.75       205\n",
      "    fourties       0.77      0.62      0.69       233\n",
      "   seventies       0.83      0.81      0.82        36\n",
      "     sixties       0.75      0.75      0.75        88\n",
      "       teens       0.72      0.47      0.57       117\n",
      "    thirties       0.64      0.77      0.70       388\n",
      "    twenties       0.71      0.72      0.71       463\n",
      "\n",
      "    accuracy                           0.70      1535\n",
      "   macro avg       0.69      0.64      0.65      1535\n",
      "weighted avg       0.71      0.70      0.70      1535\n",
      "\n"
     ]
    },
    {
     "data": {
      "image/png": "[encoded data removed]",
      "text/plain": [
       "<Figure size 1000x800 with 2 Axes>"
      ]
     },
     "metadata": {},
     "output_type": "display_data"
    }
   ],
   "source": [
    "if age_model_loaded_for_pred and y_true_age_indices and y_pred_age_indices:\n",
    "    print(\"\\n--- Age Model Evaluation Metrics (on the sampled test data) ---\")\n",
    "\n",
    "    # Overall Accuracy\n",
    "    accuracy = accuracy_score(y_true_age_indices, y_pred_age_indices)\n",
    "    print(f\"Overall Accuracy: {accuracy:.4f}\")\n",
    "\n",
    "    # Classification Report\n",
    "    # Ensure target_names match the order in loaded_age_label_encoder_dl.classes_\n",
    "    age_class_names = loaded_age_label_encoder_dl.classes_\n",
    "    \n",
    "    # Get unique labels present in y_true_age_indices and y_pred_age_indices\n",
    "    # to avoid \"Target is multiclass but average='binary'\" if some classes are missing in the sample\n",
    "    unique_labels_in_test = np.unique(y_true_age_indices + y_pred_age_indices)\n",
    "    \n",
    "    # Filter target_names if necessary, or ensure all classes are represented for a full report\n",
    "    # For simplicity here, we'll use all class names, but be mindful if your sample is small.\n",
    "    \n",
    "    try:\n",
    "        report = classification_report(y_true_age_indices, y_pred_age_indices, \n",
    "                                       labels=np.arange(len(age_class_names)), # use indices from 0 to num_classes-1\n",
    "                                       target_names=age_class_names, \n",
    "                                       zero_division=0)\n",
    "        print(\"\\nClassification Report:\")\n",
    "        print(report)\n",
    "    except ValueError as ve:\n",
    "        print(f\"\\nCould not generate full classification report: {ve}\")\n",
    "        print(\"This might happen if not all classes are present in the sampled predictions.\")\n",
    "        print(\"Showing report for available labels:\")\n",
    "        report_subset = classification_report(y_true_age_indices, y_pred_age_indices, \n",
    "                                              labels=unique_labels_in_test,\n",
    "                                              target_names=[age_class_names[i] for i in unique_labels_in_test],\n",
    "                                              zero_division=0)\n",
    "        print(report_subset)\n",
    "\n",
    "\n",
    "    # Confusion Matrix\n",
    "    cm = confusion_matrix(y_true_age_indices, y_pred_age_indices, labels=np.arange(len(age_class_names)))\n",
    "    plt.figure(figsize=(10, 8))\n",
    "    sns.heatmap(cm, annot=True, fmt='d', cmap='Blues', \n",
    "                xticklabels=age_class_names, \n",
    "                yticklabels=age_class_names)\n",
    "    plt.xlabel('Predicted Age')\n",
    "    plt.ylabel('True Age')\n",
    "    plt.title('Confusion Matrix for Age Prediction (on sampled test data)')\n",
    "    plt.show()\n",
    "else:\n",
    "    print(\"Not enough data or model not loaded for evaluation.\")"
   ]
  }
 ],
 "metadata": {
  "kaggle": {
   "accelerator": "nvidiaTeslaT4",
   "dataSources": [
    {
     "datasetId": 5793,
     "sourceId": 9812,
     "sourceType": "datasetVersion"
    },
    {
     "datasetId": 7457507,
     "sourceId": 11867379,
     "sourceType": "datasetVersion"
    }
   ],
   "dockerImageVersionId": 31041,
   "isGpuEnabled": true,
   "isInternetEnabled": false,
   "language": "python",
   "sourceType": "notebook"
  },
  "kernelspec": {
   "display_name": "Python 3",
   "language": "python",
   "name": "python3"
  },
  "language_info": {
   "codemirror_mode": {
    "name": "ipython",
    "version": 3
   },
   "file_extension": ".py",
   "mimetype": "text/x-python",
   "name": "python",
   "nbconvert_exporter": "python",
   "pygments_lexer": "ipython3",
   "version": "3.11.11"
  },
  "papermill": {
   "default_parameters": {},
   "duration": 197.390725,
   "end_time": "2025-05-19T08:22:06.705433",
   "environment_variables": {},
   "exception": null,
   "input_path": "__notebook__.ipynb",
   "output_path": "__notebook__.ipynb",
   "parameters": {},
   "start_time": "2025-05-19T08:18:49.314708",
   "version": "2.6.0"
  }
 },
 "nbformat": 4,
 "nbformat_minor": 5
}
